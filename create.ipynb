{
 "cells": [
  {
   "cell_type": "markdown",
   "metadata": {},
   "source": [
    "# Making LISA-band DWD populations"
   ]
  },
  {
   "cell_type": "markdown",
   "metadata": {},
   "source": [
    "To make a set of populations for a specific DWD type, you will run create.py. __!!This function assumes you are using the reduced dat files!! Or else the conv file it retrieves will be wrong.!!__\n",
    "the DWD argument is used to specify which DWD type you want (it will automatically create 30 populations: two models F50 and FZ, each with the 15 metallicity values from our grid)"
   ]
  },
  {
   "cell_type": "markdown",
   "metadata": {},
   "source": [
    "example: \\\n",
    "    python createMW.py --DWD He_He CO_He --interfile False --path ~/ceph/DWD_alpha_0.25/ --lband-path ~/ceph/DWD_alpha_0.25/LISA_band_data --nproc 1 "
   ]
  },
  {
   "cell_type": "markdown",
   "metadata": {},
   "source": [
    "Because such a high volume of stars is sampled for most of the DWD types (ONe+XX can be done in about an hour on the command line so that one is not unreasonable), these usually need to be done through a computing cluster."
   ]
  },
  {
   "cell_type": "code",
   "execution_count": null,
   "metadata": {
    "scrolled": true
   },
   "outputs": [],
   "source": [
    "!python createMW.py --DWD He_He CO_He --interfile False --path ~/ceph/DWD_alpha_0.25/ --FIRE-path ~/ceph/FIRE/ --lband-path ~/ceph/DWD_alpha_0.25/LISA_band_data/ --nproc 1"
   ]
  },
  {
   "cell_type": "markdown",
   "metadata": {},
   "source": [
    "Once you have created the population of DWDs orbiting in the LISA band, you can create the data needed to run the visualization notebook!"
   ]
  },
  {
   "cell_type": "code",
   "execution_count": null,
   "metadata": {
    "scrolled": true
   },
   "outputs": [],
   "source": [
    "!python createPlotDat.py --path ~/ceph/DWD_alpha_0.25/ --lband-path ~/ceph/DWD_alpha_0.25/LISA_band_data/ --plotdat-path ~/ceph/DWD_alpha_0.25/plot_data/"
   ]
  },
  {
   "cell_type": "code",
   "execution_count": null,
   "metadata": {},
   "outputs": [],
   "source": [
    "!python createPlotDat.py --path ~/ceph/DWD_log_uniform/ --lband-path ~/ceph/DWD_log_uniform/LISA_band_data/ --plotdat-path ~/ceph/DWD_log_uniform/plot_data/"
   ]
  },
  {
   "cell_type": "code",
   "execution_count": null,
   "metadata": {},
   "outputs": [],
   "source": [
    "!python createPlotDat.py --path ~/ceph/DWD_qcflag_4/ --lband-path ~/ceph/DWD_qcflag_4/LISA_band_data/ --plotdat-path ~/ceph/DWD_qcflag_4/plot_data/"
   ]
  },
  {
   "cell_type": "code",
   "execution_count": null,
   "metadata": {},
   "outputs": [],
   "source": [
    "!python createPlotDat.py --path ~/ceph/DWD_alpha_5/ --lband-path ~/ceph/DWD_alpha_5/LISA_band_data/ --plotdat-path ~/ceph/DWD_alpha_5/plot_data/"
   ]
  },
  {
   "cell_type": "code",
   "execution_count": null,
   "metadata": {},
   "outputs": [],
   "source": []
  }
 ],
 "metadata": {
  "kernelspec": {
   "display_name": "cosmic",
   "language": "python",
   "name": "cosmic"
  },
  "language_info": {
   "codemirror_mode": {
    "name": "ipython",
    "version": 3
   },
   "file_extension": ".py",
   "mimetype": "text/x-python",
   "name": "python",
   "nbconvert_exporter": "python",
   "pygments_lexer": "ipython3",
   "version": "3.8.5"
  }
 },
 "nbformat": 4,
 "nbformat_minor": 4
}
